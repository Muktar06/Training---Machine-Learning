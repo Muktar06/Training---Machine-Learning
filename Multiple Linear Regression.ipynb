{
 "cells": [
  {
   "cell_type": "code",
   "execution_count": 1,
   "metadata": {},
   "outputs": [],
   "source": [
    "#1 Importing the libraries\n",
    "import numpy as np\n",
    "import pandas as pd"
   ]
  },
  {
   "cell_type": "code",
   "execution_count": 2,
   "metadata": {},
   "outputs": [],
   "source": [
    "#2 Importing the data set\n",
    "dataset = pd.read_csv('beer_data.csv')"
   ]
  },
  {
   "cell_type": "code",
   "execution_count": 3,
   "metadata": {},
   "outputs": [
    {
     "data": {
      "text/html": [
       "<div>\n",
       "<style scoped>\n",
       "    .dataframe tbody tr th:only-of-type {\n",
       "        vertical-align: middle;\n",
       "    }\n",
       "\n",
       "    .dataframe tbody tr th {\n",
       "        vertical-align: top;\n",
       "    }\n",
       "\n",
       "    .dataframe thead th {\n",
       "        text-align: right;\n",
       "    }\n",
       "</style>\n",
       "<table border=\"1\" class=\"dataframe\">\n",
       "  <thead>\n",
       "    <tr style=\"text-align: right;\">\n",
       "      <th></th>\n",
       "      <th>ABV</th>\n",
       "      <th>Ratings</th>\n",
       "      <th>Cellar Temperature</th>\n",
       "      <th>Score</th>\n",
       "    </tr>\n",
       "  </thead>\n",
       "  <tbody>\n",
       "    <tr>\n",
       "      <th>0</th>\n",
       "      <td>7.5</td>\n",
       "      <td>1</td>\n",
       "      <td>40-45</td>\n",
       "      <td>4.08</td>\n",
       "    </tr>\n",
       "    <tr>\n",
       "      <th>1</th>\n",
       "      <td>5.3</td>\n",
       "      <td>22</td>\n",
       "      <td>40-45</td>\n",
       "      <td>3.82</td>\n",
       "    </tr>\n",
       "    <tr>\n",
       "      <th>2</th>\n",
       "      <td>9.0</td>\n",
       "      <td>1</td>\n",
       "      <td>45-50</td>\n",
       "      <td>4.03</td>\n",
       "    </tr>\n",
       "    <tr>\n",
       "      <th>3</th>\n",
       "      <td>4.6</td>\n",
       "      <td>1</td>\n",
       "      <td>35-40</td>\n",
       "      <td>4.00</td>\n",
       "    </tr>\n",
       "    <tr>\n",
       "      <th>4</th>\n",
       "      <td>6.9</td>\n",
       "      <td>1</td>\n",
       "      <td>45-50</td>\n",
       "      <td>3.75</td>\n",
       "    </tr>\n",
       "  </tbody>\n",
       "</table>\n",
       "</div>"
      ],
      "text/plain": [
       "   ABV  Ratings Cellar Temperature  Score\n",
       "0  7.5        1              40-45   4.08\n",
       "1  5.3       22              40-45   3.82\n",
       "2  9.0        1              45-50   4.03\n",
       "3  4.6        1              35-40   4.00\n",
       "4  6.9        1              45-50   3.75"
      ]
     },
     "execution_count": 3,
     "metadata": {},
     "output_type": "execute_result"
    }
   ],
   "source": [
    "dataset.head(5)"
   ]
  },
  {
   "cell_type": "code",
   "execution_count": 4,
   "metadata": {},
   "outputs": [],
   "source": [
    "#3 Dealing with the categorical data\n",
    "\n",
    "#spliting Cellar Temperature into Maximum and Minimum based on the given data and converting the type from str to int\n",
    "dataset['Minimum_Cellar_Temp'] = dataset['Cellar Temperature'].apply(lambda x : int(x.split('-')[0].strip()))\n",
    "dataset['Maximum_Cellar_Temp'] = dataset['Cellar Temperature'].apply(lambda x : int(x.split('-')[1].strip()))"
   ]
  },
  {
   "cell_type": "code",
   "execution_count": 5,
   "metadata": {},
   "outputs": [
    {
     "data": {
      "text/html": [
       "<div>\n",
       "<style scoped>\n",
       "    .dataframe tbody tr th:only-of-type {\n",
       "        vertical-align: middle;\n",
       "    }\n",
       "\n",
       "    .dataframe tbody tr th {\n",
       "        vertical-align: top;\n",
       "    }\n",
       "\n",
       "    .dataframe thead th {\n",
       "        text-align: right;\n",
       "    }\n",
       "</style>\n",
       "<table border=\"1\" class=\"dataframe\">\n",
       "  <thead>\n",
       "    <tr style=\"text-align: right;\">\n",
       "      <th></th>\n",
       "      <th>ABV</th>\n",
       "      <th>Ratings</th>\n",
       "      <th>Cellar Temperature</th>\n",
       "      <th>Score</th>\n",
       "      <th>Minimum_Cellar_Temp</th>\n",
       "      <th>Maximum_Cellar_Temp</th>\n",
       "    </tr>\n",
       "  </thead>\n",
       "  <tbody>\n",
       "    <tr>\n",
       "      <th>0</th>\n",
       "      <td>7.5</td>\n",
       "      <td>1</td>\n",
       "      <td>40-45</td>\n",
       "      <td>4.08</td>\n",
       "      <td>40</td>\n",
       "      <td>45</td>\n",
       "    </tr>\n",
       "    <tr>\n",
       "      <th>1</th>\n",
       "      <td>5.3</td>\n",
       "      <td>22</td>\n",
       "      <td>40-45</td>\n",
       "      <td>3.82</td>\n",
       "      <td>40</td>\n",
       "      <td>45</td>\n",
       "    </tr>\n",
       "    <tr>\n",
       "      <th>2</th>\n",
       "      <td>9.0</td>\n",
       "      <td>1</td>\n",
       "      <td>45-50</td>\n",
       "      <td>4.03</td>\n",
       "      <td>45</td>\n",
       "      <td>50</td>\n",
       "    </tr>\n",
       "    <tr>\n",
       "      <th>3</th>\n",
       "      <td>4.6</td>\n",
       "      <td>1</td>\n",
       "      <td>35-40</td>\n",
       "      <td>4.00</td>\n",
       "      <td>35</td>\n",
       "      <td>40</td>\n",
       "    </tr>\n",
       "    <tr>\n",
       "      <th>4</th>\n",
       "      <td>6.9</td>\n",
       "      <td>1</td>\n",
       "      <td>45-50</td>\n",
       "      <td>3.75</td>\n",
       "      <td>45</td>\n",
       "      <td>50</td>\n",
       "    </tr>\n",
       "  </tbody>\n",
       "</table>\n",
       "</div>"
      ],
      "text/plain": [
       "   ABV  Ratings Cellar Temperature  Score  Minimum_Cellar_Temp  \\\n",
       "0  7.5        1              40-45   4.08                   40   \n",
       "1  5.3       22              40-45   3.82                   40   \n",
       "2  9.0        1              45-50   4.03                   45   \n",
       "3  4.6        1              35-40   4.00                   35   \n",
       "4  6.9        1              45-50   3.75                   45   \n",
       "\n",
       "   Maximum_Cellar_Temp  \n",
       "0                   45  \n",
       "1                   45  \n",
       "2                   50  \n",
       "3                   40  \n",
       "4                   50  "
      ]
     },
     "execution_count": 5,
     "metadata": {},
     "output_type": "execute_result"
    }
   ],
   "source": [
    "dataset.head(5)"
   ]
  },
  {
   "cell_type": "code",
   "execution_count": 6,
   "metadata": {},
   "outputs": [],
   "source": [
    "#New dataset with selected features\n",
    "dataset = dataset[['ABV', 'Ratings','Minimum_Cellar_Temp','Maximum_Cellar_Temp', 'Score']]"
   ]
  },
  {
   "cell_type": "code",
   "execution_count": 7,
   "metadata": {},
   "outputs": [
    {
     "name": "stdout",
     "output_type": "stream",
     "text": [
      "\n",
      "----------------------------\n",
      "    ABV  Ratings  Minimum_Cellar_Temp  Maximum_Cellar_Temp  Score\n",
      "0  7.5        1                   40                   45   4.08\n",
      "1  5.3       22                   40                   45   3.82\n",
      "2  9.0        1                   45                   50   4.03\n",
      "3  4.6        1                   35                   40   4.00\n",
      "4  6.9        1                   45                   50   3.75\n",
      "5  7.9       32                   40                   45   4.26\n",
      "6  4.7      141                   35                   40   3.47\n",
      "7  5.6        1                   40                   45   3.70\n",
      "8  5.0        1                   40                   45   3.90\n",
      "9  5.4       12                   40                   45   3.79\n"
     ]
    }
   ],
   "source": [
    "#Printing first 10 rows of the dataset\n",
    "print(\"\\n----------------------------\\n\",dataset.head(10))"
   ]
  },
  {
   "cell_type": "code",
   "execution_count": 8,
   "metadata": {},
   "outputs": [
    {
     "name": "stdout",
     "output_type": "stream",
     "text": [
      "\n",
      "----------------------------\n",
      "\n",
      "<class 'pandas.core.frame.DataFrame'>\n",
      "RangeIndex: 1631 entries, 0 to 1630\n",
      "Data columns (total 5 columns):\n",
      "ABV                    1631 non-null float64\n",
      "Ratings                1631 non-null int64\n",
      "Minimum_Cellar_Temp    1631 non-null int64\n",
      "Maximum_Cellar_Temp    1631 non-null int64\n",
      "Score                  1631 non-null float64\n",
      "dtypes: float64(2), int64(3)\n",
      "memory usage: 63.8 KB\n",
      "None\n"
     ]
    }
   ],
   "source": [
    "#Printing the summary of the dataset\n",
    "print(\"\\n----------------------------\\n\")\n",
    "print(dataset.info())"
   ]
  },
  {
   "cell_type": "code",
   "execution_count": 9,
   "metadata": {},
   "outputs": [],
   "source": [
    "#4 Classifying dependent and independent variables\n",
    "\n",
    "#All columns except the last column are independent features- (Selecting every column except Score)\n",
    "X = dataset.iloc[:,:-1].values\n",
    "#Only the last column is the dependent feature or the target variable(Score)\n",
    "y = dataset.iloc[:,-1].values"
   ]
  },
  {
   "cell_type": "code",
   "execution_count": 10,
   "metadata": {},
   "outputs": [],
   "source": [
    "#5 Creating training and test sets\n",
    "from sklearn.model_selection import train_test_split\n",
    "X_train, X_test, y_train, y_test = train_test_split(X,y,test_size = 0.2,random_state = 0)\n",
    "\n",
    "\n",
    "#################Data Preprocessing Ends #################################"
   ]
  },
  {
   "cell_type": "code",
   "execution_count": 11,
   "metadata": {},
   "outputs": [
    {
     "data": {
      "text/plain": [
       "' Multiple Linear regression '"
      ]
     },
     "execution_count": 11,
     "metadata": {},
     "output_type": "execute_result"
    }
   ],
   "source": [
    "\"\"\" Multiple Linear regression \"\"\""
   ]
  },
  {
   "cell_type": "code",
   "execution_count": 12,
   "metadata": {},
   "outputs": [],
   "source": [
    "#6 Creating the Regressor and training it with the training set\n",
    "\n",
    "from sklearn.linear_model import LinearRegression\n",
    "regressor = LinearRegression(normalize = True)"
   ]
  },
  {
   "cell_type": "code",
   "execution_count": 13,
   "metadata": {},
   "outputs": [
    {
     "data": {
      "text/plain": [
       "LinearRegression(copy_X=True, fit_intercept=True, n_jobs=1, normalize=True)"
      ]
     },
     "execution_count": 13,
     "metadata": {},
     "output_type": "execute_result"
    }
   ],
   "source": [
    "#7 Feeding the data and training the model\n",
    "regressor.fit(X_train,y_train)"
   ]
  },
  {
   "cell_type": "code",
   "execution_count": 14,
   "metadata": {},
   "outputs": [],
   "source": [
    "#8 Predicting the Score for test set observations\n",
    "y_pred = regressor.predict(X_test)"
   ]
  },
  {
   "cell_type": "code",
   "execution_count": 15,
   "metadata": {},
   "outputs": [
    {
     "name": "stdout",
     "output_type": "stream",
     "text": [
      "\n",
      "----------------------------\n",
      "Predictions = \n",
      " [2.89362768 2.90755783 3.07058711 3.48413975 3.65433446 2.9310254\n",
      " 3.12667115 2.90202462 3.11905124 3.1177165  3.13259288 3.13790974\n",
      " 2.84802728 2.95505068 3.58824928 3.15091575 2.85489522 3.2262689\n",
      " 3.13565087 3.184115   3.23524861 3.64880125 3.11084856 5.82687381\n",
      " 3.37539607 3.53546761 3.54748025 3.08718673 3.12458445 3.27929496\n",
      " 3.23944708 3.54100082 3.16387461 3.19384668 3.56883606 3.08031878\n",
      " 3.38869332 3.2505135  2.98405145 3.05685121 3.14538254 3.14972514\n",
      " 3.13259288 3.26844786 3.23391387 3.2241822  4.24094226 3.7083318\n",
      " 3.08451725 3.67646729 3.57475778 3.1177165  3.21864899 2.91576051\n",
      " 3.23381064 3.14538254 3.15511422 3.17858179 3.20071463 3.12189289\n",
      " 3.30031237 3.25031924 3.25604671 3.16618064 2.88675973 3.4108733\n",
      " 3.61980047 3.15758944 2.9666748  6.49031035 3.39274468 2.96822886\n",
      " 3.06791763 3.54080656 2.96002618 3.16331691 3.1121833  3.01936247\n",
      " 3.22799215 3.13984934 3.10186884 3.26364155 3.44832413 3.73313411\n",
      " 3.41640651 2.91097927 3.23391387 3.07764931 3.22092995 3.49154033\n",
      " 3.22284746 3.05685121 3.53546761 3.2241822  3.17171385 3.02884976\n",
      " 2.93216588 2.95082714 3.32225095 3.10665009 2.9046941  3.14652302\n",
      " 3.14727499 3.38740573 3.21178104 3.10133918 3.1299234  2.93545196\n",
      " 3.31652348 3.17858179 3.05675409 3.23391387 2.91442577 3.28924596\n",
      " 3.11084856 3.51180579 2.91231401 3.32508962 3.12324971 3.14671728\n",
      " 3.23828154 2.99055595 3.21311578 3.21178104 3.05248653 2.85069675\n",
      " 3.79113567 3.53583106 3.20624783 3.45513897 3.17438332 3.23257914\n",
      " 2.9502945  3.29931602 3.10931956 3.16006466 3.20758257 3.04122585\n",
      " 3.19518142 3.21711999 3.53813709 3.39293894 3.1562547  2.90202462\n",
      " 3.28596864 2.85889943 8.46101308 3.40953856 3.32906876 2.88122652\n",
      " 3.15902741 3.13298139 3.22151272 3.01402352 3.09978214 3.28074578\n",
      " 3.14404781 3.19937989 3.29303085 3.56713787 3.0029571  3.12458445\n",
      " 3.87218465 3.27264633 2.9680346  3.25738145 3.1177165  3.15225049\n",
      " 3.16189115 3.28885744 3.23658335 3.1035921  3.46809344 2.92566138\n",
      " 2.92549219 3.22073569 4.22552699 3.56446839 2.90850405 3.6228334\n",
      " 2.92262846 2.9310254  3.18659022 2.90889257 3.17724706 2.9974239\n",
      " 3.13431613 2.91136778 2.98577471 3.55194489 3.39713741 3.61275708\n",
      " 3.18525548 3.51581    2.90202462 3.29058069 3.13431613 2.9102273\n",
      " 3.56446839 3.14805202 3.34314007 3.37080611 3.52020273 3.44827102\n",
      " 3.86996336 3.49234243 3.18659022 3.12191497 3.26157992 3.15511422\n",
      " 3.07309036 3.28591852 2.9310254  3.23811235 3.56560887 3.04158633\n",
      " 3.23811235 3.14404781 3.15091575 3.13210284 3.21178104 2.94417852\n",
      " 3.28924596 3.53546761 3.08595523 3.15511422 3.31947824 3.53527336\n",
      " 3.76919709 3.70413333 3.26024518 2.88809447 3.19518142 3.12191497\n",
      " 3.60186611 3.1476635  2.89362768 3.33816457 3.34942822 3.16198217\n",
      " 3.15491997 3.09558367 3.23658335 3.14193604 3.37080611 3.53469058\n",
      " 2.99055595 2.87569332 3.18792496 3.51180579 3.57626171 2.89229294\n",
      " 3.07345084 3.36947137 3.05682615 3.57514629 3.28924596 3.78127867\n",
      " 2.96555938 3.67646729 2.93655861 2.90202462 4.98814472 3.26900557\n",
      " 3.16445739 3.75813068 3.17991653 3.55893518 3.10092262 3.22245894\n",
      " 3.2049131  3.48154844 2.92376894 3.12324971 3.11198904 3.54748025\n",
      " 3.10665009 3.26424939 3.34591278 2.91986185 3.71663772 3.41507177\n",
      " 3.33484636 3.73046464 2.90335936 3.57876199 3.12191497 3.16634983\n",
      " 3.26473191 3.16288124 3.43194382 2.90755783 3.26024518 3.62113521\n",
      " 3.05952069 2.82036124 2.91270252 3.23658335 3.01258555 2.85775895\n",
      " 3.51847947 3.17991653 3.13298139 3.59194018 3.28235295 3.56980734\n",
      " 3.12189289 3.26711312 2.93636435 3.22952115 3.66406614 2.90335936\n",
      " 3.7027986  3.16487974 3.23391387 3.17991653 3.39788938 3.02508994\n",
      " 2.9046941  3.65853293 3.26558413 3.18964821 3.15644896 3.215591\n",
      " 2.90755783 2.92471516 3.53983528]\n"
     ]
    }
   ],
   "source": [
    "#printing the predictions\n",
    "print(\"\\n----------------------------\\nPredictions = \\n\",y_pred)"
   ]
  },
  {
   "cell_type": "code",
   "execution_count": 16,
   "metadata": {},
   "outputs": [],
   "source": [
    "#9 Calculating score from Root Mean Log Squared Error\n",
    "def rmlse(y_test, y_pred):\n",
    "    error = np.square(np.log10(y_pred +1) - np.log10(y_test +1)).mean() ** 0.5\n",
    "    score = 1 - error\n",
    "    return score"
   ]
  },
  {
   "cell_type": "code",
   "execution_count": 17,
   "metadata": {},
   "outputs": [
    {
     "name": "stdout",
     "output_type": "stream",
     "text": [
      "\n",
      "----------------------------\n",
      "RMLSE Score =  0.7662895343841157\n"
     ]
    }
   ],
   "source": [
    "print(\"\\n----------------------------\\nRMLSE Score = \", rmlse(y_test, y_pred))"
   ]
  }
 ],
 "metadata": {
  "kernelspec": {
   "display_name": "Python 3",
   "language": "python",
   "name": "python3"
  },
  "language_info": {
   "codemirror_mode": {
    "name": "ipython",
    "version": 3
   },
   "file_extension": ".py",
   "mimetype": "text/x-python",
   "name": "python",
   "nbconvert_exporter": "python",
   "pygments_lexer": "ipython3",
   "version": "3.7.0"
  }
 },
 "nbformat": 4,
 "nbformat_minor": 2
}
